{
 "cells": [
  {
   "cell_type": "markdown",
   "metadata": {},
   "source": [
    "Issues:\n",
    "- inflated \\# units (e.g. parkmerced) due to double counting or counting non-residential units\n",
    "- properties in some assessor roll years and not others\n",
    "   - **solution**: take record from closest year, only consider evictions >= 2007\n",
    "- properties with multiple rent control eligibility use codes:\n",
    "   - **solution**: count how many of these there are, take the max use code\n",
    "- zero-unit buildings in new construction\n",
    "   - **solution**: year_built < 2010, or units > 0\n",
    "- properties with multiple year-built's\n",
    "   - **solution**: take the max year built, which will give a conservative estimate w/r/t rent control\n",
    "- year-built = 0\n",
    "   - **solution**: year_built > 1800\n",
    "- condo conversion or parcel splits after eviction but before earliest assessor record\n",
    "   - SRES --> MRES would overcount MRES evictions\n",
    "   - MRES --> SRES would undercount MRES evictions\n",
    "   - **solution**: only count evictions after 2007\n",
    "   - many of these are the \"0000 0000 000000000\" values in assessor rolls\n",
    "- rent controlled properties more likely to be in state of disrepair and therefore require demolition/capital improvements\n",
    "   - **solution**: fit hedonic and control for stddev above/below predicted value\n",
    "- petition applies to multiple units\n",
    "   - **solution**: use new eviction .csv with unit counts"
   ]
  },
  {
   "cell_type": "code",
   "execution_count": 1,
   "metadata": {},
   "outputs": [],
   "source": [
    "import pandas as pd\n",
    "import numpy as np\n",
    "from matplotlib import pyplot as plt\n",
    "import seaborn as sns\n",
    "import statsmodels.formula.api as smf\n",
    "%matplotlib inline"
   ]
  },
  {
   "cell_type": "markdown",
   "metadata": {},
   "source": [
    "### Load assessor universe"
   ]
  },
  {
   "cell_type": "code",
   "execution_count": 2,
   "metadata": {},
   "outputs": [],
   "source": [
    "asr = pd.read_csv('evictions/data/asr_grouped_by_yr.csv')"
   ]
  },
  {
   "cell_type": "code",
   "execution_count": 3,
   "metadata": {},
   "outputs": [],
   "source": [
    "asr['any_ev'] = (asr['ev_count'] > 0).astype(int)\n",
    "asr['any_ev_07'] = (asr['ev_count_post_07'] > 0).astype(int)\n",
    "asr['pre_1980'] = (asr['year_built_max'] < 1980)\n",
    "asr['ev_per_unit'] = asr['ev_count'] / asr['total_units']\n",
    "asr['ev_per_unit_since_07'] = asr['ev_count_post_07'] / asr['total_units']"
   ]
  },
  {
   "cell_type": "markdown",
   "metadata": {},
   "source": [
    "### Load eviction data"
   ]
  },
  {
   "cell_type": "code",
   "execution_count": 188,
   "metadata": {},
   "outputs": [],
   "source": [
    "ev = pd.read_csv('evictions/data/ev_matched.csv')"
   ]
  },
  {
   "cell_type": "markdown",
   "metadata": {},
   "source": [
    "### Eviction type counts by built year"
   ]
  },
  {
   "cell_type": "code",
   "execution_count": 189,
   "metadata": {},
   "outputs": [],
   "source": [
    "ev = ev[ev['year'] >= 2007]"
   ]
  },
  {
   "cell_type": "code",
   "execution_count": 194,
   "metadata": {},
   "outputs": [],
   "source": [
    "num_years = ev['year'].nunique()"
   ]
  },
  {
   "cell_type": "code",
   "execution_count": 195,
   "metadata": {},
   "outputs": [],
   "source": [
    "ev_per_year = len(ev)/num_years"
   ]
  },
  {
   "cell_type": "code",
   "execution_count": 196,
   "metadata": {},
   "outputs": [
    {
     "data": {
      "text/plain": [
       "2055.3636363636365"
      ]
     },
     "execution_count": 196,
     "metadata": {},
     "output_type": "execute_result"
    }
   ],
   "source": [
    "ev_per_year"
   ]
  },
  {
   "cell_type": "code",
   "execution_count": 183,
   "metadata": {},
   "outputs": [
    {
     "data": {
      "text/plain": [
       "(21588, 50)"
      ]
     },
     "execution_count": 183,
     "metadata": {},
     "output_type": "execute_result"
    }
   ],
   "source": [
    "ev = ev.merge(asr, left_on='asr_index', right_on='index')\n",
    "ev.shape"
   ]
  },
  {
   "cell_type": "code",
   "execution_count": 184,
   "metadata": {},
   "outputs": [
    {
     "data": {
      "text/plain": [
       "(15329, 50)"
      ]
     },
     "execution_count": 184,
     "metadata": {},
     "output_type": "execute_result"
    }
   ],
   "source": [
    "ev = ev[ev['any_rc_eligibility'] == 1]\n",
    "ev.shape"
   ]
  },
  {
   "cell_type": "code",
   "execution_count": 185,
   "metadata": {},
   "outputs": [],
   "source": [
    "ev.loc[pd.isnull(ev['type']), 'type'] = 'unknown'\n",
    "\n",
    "type_counts = ev.groupby(['pre_1980', 'type']).agg(count=('index_x', 'nunique')).reset_index()\n",
    "pre_sums = type_counts.groupby('pre_1980')['count'].sum()"
   ]
  },
  {
   "cell_type": "code",
   "execution_count": 186,
   "metadata": {},
   "outputs": [],
   "source": [
    "type_counts = type_counts.pivot(index='type', columns='pre_1980', values='count')\n",
    "type_counts['pct_False'] = type_counts[False] / pre_sums[False]\n",
    "type_counts['pct_True'] = type_counts[True] / pre_sums[True]"
   ]
  },
  {
   "cell_type": "markdown",
   "metadata": {},
   "source": [
    "#### 8x rate of OMI's, but this is prob due to structural differences"
   ]
  },
  {
   "cell_type": "code",
   "execution_count": 187,
   "metadata": {},
   "outputs": [
    {
     "data": {
      "text/html": [
       "<div>\n",
       "<style scoped>\n",
       "    .dataframe tbody tr th:only-of-type {\n",
       "        vertical-align: middle;\n",
       "    }\n",
       "\n",
       "    .dataframe tbody tr th {\n",
       "        vertical-align: top;\n",
       "    }\n",
       "\n",
       "    .dataframe thead th {\n",
       "        text-align: right;\n",
       "    }\n",
       "</style>\n",
       "<table border=\"1\" class=\"dataframe\">\n",
       "  <thead>\n",
       "    <tr style=\"text-align: right;\">\n",
       "      <th>pre_1980</th>\n",
       "      <th>False</th>\n",
       "      <th>True</th>\n",
       "      <th>pct_False</th>\n",
       "      <th>pct_True</th>\n",
       "    </tr>\n",
       "    <tr>\n",
       "      <th>type</th>\n",
       "      <th></th>\n",
       "      <th></th>\n",
       "      <th></th>\n",
       "      <th></th>\n",
       "    </tr>\n",
       "  </thead>\n",
       "  <tbody>\n",
       "    <tr>\n",
       "      <th>unknown</th>\n",
       "      <td>47.0</td>\n",
       "      <td>5431.0</td>\n",
       "      <td>0.228155</td>\n",
       "      <td>0.359122</td>\n",
       "    </tr>\n",
       "    <tr>\n",
       "      <th>Breach of Lease Agreement</th>\n",
       "      <td>78.0</td>\n",
       "      <td>3303.0</td>\n",
       "      <td>0.378641</td>\n",
       "      <td>0.218409</td>\n",
       "    </tr>\n",
       "    <tr>\n",
       "      <th>Nuisance</th>\n",
       "      <td>29.0</td>\n",
       "      <td>1767.0</td>\n",
       "      <td>0.140777</td>\n",
       "      <td>0.116842</td>\n",
       "    </tr>\n",
       "    <tr>\n",
       "      <th>OMI</th>\n",
       "      <td>3.0</td>\n",
       "      <td>1251.0</td>\n",
       "      <td>0.014563</td>\n",
       "      <td>0.082722</td>\n",
       "    </tr>\n",
       "    <tr>\n",
       "      <th>Capital Improvement</th>\n",
       "      <td>NaN</td>\n",
       "      <td>550.0</td>\n",
       "      <td>NaN</td>\n",
       "      <td>0.036368</td>\n",
       "    </tr>\n",
       "    <tr>\n",
       "      <th>Non-payment of Rent</th>\n",
       "      <td>11.0</td>\n",
       "      <td>532.0</td>\n",
       "      <td>0.053398</td>\n",
       "      <td>0.035178</td>\n",
       "    </tr>\n",
       "    <tr>\n",
       "      <th>Habitual Late Payment of Rent</th>\n",
       "      <td>4.0</td>\n",
       "      <td>431.0</td>\n",
       "      <td>0.019417</td>\n",
       "      <td>0.028500</td>\n",
       "    </tr>\n",
       "    <tr>\n",
       "      <th>ELLIS</th>\n",
       "      <td>NaN</td>\n",
       "      <td>350.0</td>\n",
       "      <td>NaN</td>\n",
       "      <td>0.023144</td>\n",
       "    </tr>\n",
       "    <tr>\n",
       "      <th>Development Agreement</th>\n",
       "      <td>NaN</td>\n",
       "      <td>233.0</td>\n",
       "      <td>NaN</td>\n",
       "      <td>0.015407</td>\n",
       "    </tr>\n",
       "    <tr>\n",
       "      <th>Illegal Use of Unit</th>\n",
       "      <td>2.0</td>\n",
       "      <td>229.0</td>\n",
       "      <td>0.009709</td>\n",
       "      <td>0.015142</td>\n",
       "    </tr>\n",
       "    <tr>\n",
       "      <th>Breach of Lease Agreement Nuisance</th>\n",
       "      <td>3.0</td>\n",
       "      <td>209.0</td>\n",
       "      <td>0.014563</td>\n",
       "      <td>0.013820</td>\n",
       "    </tr>\n",
       "    <tr>\n",
       "      <th>Roommate Living in Same Unit</th>\n",
       "      <td>3.0</td>\n",
       "      <td>136.0</td>\n",
       "      <td>0.014563</td>\n",
       "      <td>0.008993</td>\n",
       "    </tr>\n",
       "    <tr>\n",
       "      <th>Other</th>\n",
       "      <td>18.0</td>\n",
       "      <td>125.0</td>\n",
       "      <td>0.087379</td>\n",
       "      <td>0.008266</td>\n",
       "    </tr>\n",
       "    <tr>\n",
       "      <th>Unapproved Subtenant</th>\n",
       "      <td>1.0</td>\n",
       "      <td>119.0</td>\n",
       "      <td>0.004854</td>\n",
       "      <td>0.007869</td>\n",
       "    </tr>\n",
       "    <tr>\n",
       "      <th>Demolition</th>\n",
       "      <td>NaN</td>\n",
       "      <td>104.0</td>\n",
       "      <td>NaN</td>\n",
       "      <td>0.006877</td>\n",
       "    </tr>\n",
       "    <tr>\n",
       "      <th>Denial of Access to Unit</th>\n",
       "      <td>2.0</td>\n",
       "      <td>58.0</td>\n",
       "      <td>0.009709</td>\n",
       "      <td>0.003835</td>\n",
       "    </tr>\n",
       "    <tr>\n",
       "      <th>Nuisance Illegal Use of Unit</th>\n",
       "      <td>NaN</td>\n",
       "      <td>51.0</td>\n",
       "      <td>NaN</td>\n",
       "      <td>0.003372</td>\n",
       "    </tr>\n",
       "    <tr>\n",
       "      <th>Breach of Lease Agreement Illegal Use of Unit</th>\n",
       "      <td>NaN</td>\n",
       "      <td>35.0</td>\n",
       "      <td>NaN</td>\n",
       "      <td>0.002314</td>\n",
       "    </tr>\n",
       "    <tr>\n",
       "      <th>Failure to Sign Lease Renewal</th>\n",
       "      <td>NaN</td>\n",
       "      <td>25.0</td>\n",
       "      <td>NaN</td>\n",
       "      <td>0.001653</td>\n",
       "    </tr>\n",
       "    <tr>\n",
       "      <th>Breach of Lease Agreement Nuisance Illegal Use of Unit</th>\n",
       "      <td>NaN</td>\n",
       "      <td>25.0</td>\n",
       "      <td>NaN</td>\n",
       "      <td>0.001653</td>\n",
       "    </tr>\n",
       "  </tbody>\n",
       "</table>\n",
       "</div>"
      ],
      "text/plain": [
       "pre_1980                                            False    True  pct_False  \\\n",
       "type                                                                           \n",
       "unknown                                              47.0  5431.0   0.228155   \n",
       "Breach of Lease Agreement                            78.0  3303.0   0.378641   \n",
       "Nuisance                                             29.0  1767.0   0.140777   \n",
       "OMI                                                   3.0  1251.0   0.014563   \n",
       "Capital Improvement                                   NaN   550.0        NaN   \n",
       "Non-payment of Rent                                  11.0   532.0   0.053398   \n",
       "Habitual Late Payment of Rent                         4.0   431.0   0.019417   \n",
       "ELLIS                                                 NaN   350.0        NaN   \n",
       "Development Agreement                                 NaN   233.0        NaN   \n",
       "Illegal Use of Unit                                   2.0   229.0   0.009709   \n",
       "Breach of Lease Agreement Nuisance                    3.0   209.0   0.014563   \n",
       "Roommate Living in Same Unit                          3.0   136.0   0.014563   \n",
       "Other                                                18.0   125.0   0.087379   \n",
       "Unapproved Subtenant                                  1.0   119.0   0.004854   \n",
       "Demolition                                            NaN   104.0        NaN   \n",
       "Denial of Access to Unit                              2.0    58.0   0.009709   \n",
       "Nuisance Illegal Use of Unit                          NaN    51.0        NaN   \n",
       "Breach of Lease Agreement Illegal Use of Unit         NaN    35.0        NaN   \n",
       "Failure to Sign Lease Renewal                         NaN    25.0        NaN   \n",
       "Breach of Lease Agreement Nuisance Illegal Use ...    NaN    25.0        NaN   \n",
       "\n",
       "pre_1980                                            pct_True  \n",
       "type                                                          \n",
       "unknown                                             0.359122  \n",
       "Breach of Lease Agreement                           0.218409  \n",
       "Nuisance                                            0.116842  \n",
       "OMI                                                 0.082722  \n",
       "Capital Improvement                                 0.036368  \n",
       "Non-payment of Rent                                 0.035178  \n",
       "Habitual Late Payment of Rent                       0.028500  \n",
       "ELLIS                                               0.023144  \n",
       "Development Agreement                               0.015407  \n",
       "Illegal Use of Unit                                 0.015142  \n",
       "Breach of Lease Agreement Nuisance                  0.013820  \n",
       "Roommate Living in Same Unit                        0.008993  \n",
       "Other                                               0.008266  \n",
       "Unapproved Subtenant                                0.007869  \n",
       "Demolition                                          0.006877  \n",
       "Denial of Access to Unit                            0.003835  \n",
       "Nuisance Illegal Use of Unit                        0.003372  \n",
       "Breach of Lease Agreement Illegal Use of Unit       0.002314  \n",
       "Failure to Sign Lease Renewal                       0.001653  \n",
       "Breach of Lease Agreement Nuisance Illegal Use ...  0.001653  "
      ]
     },
     "execution_count": 187,
     "metadata": {},
     "output_type": "execute_result"
    }
   ],
   "source": [
    "type_counts.sort_values('pct_True', ascending=False).head(20)"
   ]
  },
  {
   "cell_type": "markdown",
   "metadata": {},
   "source": [
    "### Mean differences"
   ]
  },
  {
   "cell_type": "markdown",
   "metadata": {},
   "source": [
    "#### Evictions post-2007:"
   ]
  },
  {
   "cell_type": "code",
   "execution_count": 32,
   "metadata": {},
   "outputs": [
    {
     "data": {
      "text/html": [
       "<div>\n",
       "<style scoped>\n",
       "    .dataframe tbody tr th:only-of-type {\n",
       "        vertical-align: middle;\n",
       "    }\n",
       "\n",
       "    .dataframe tbody tr th {\n",
       "        vertical-align: top;\n",
       "    }\n",
       "\n",
       "    .dataframe thead th {\n",
       "        text-align: right;\n",
       "    }\n",
       "</style>\n",
       "<table border=\"1\" class=\"dataframe\">\n",
       "  <thead>\n",
       "    <tr style=\"text-align: right;\">\n",
       "      <th></th>\n",
       "      <th></th>\n",
       "      <th>mean_any_ev</th>\n",
       "      <th>total_addresses</th>\n",
       "      <th>total_units</th>\n",
       "      <th>total_evictions</th>\n",
       "      <th>units_per_address</th>\n",
       "      <th>evictions_per_address</th>\n",
       "      <th>evictions_per_unit</th>\n",
       "    </tr>\n",
       "    <tr>\n",
       "      <th>any_rc_eligibility</th>\n",
       "      <th>pre_1980</th>\n",
       "      <th></th>\n",
       "      <th></th>\n",
       "      <th></th>\n",
       "      <th></th>\n",
       "      <th></th>\n",
       "      <th></th>\n",
       "      <th></th>\n",
       "    </tr>\n",
       "  </thead>\n",
       "  <tbody>\n",
       "    <tr>\n",
       "      <th rowspan=\"2\" valign=\"top\">0.0</th>\n",
       "      <th>False</th>\n",
       "      <td>0.002014</td>\n",
       "      <td>91369</td>\n",
       "      <td>304098</td>\n",
       "      <td>266</td>\n",
       "      <td>3.328240</td>\n",
       "      <td>0.002911</td>\n",
       "      <td>0.000875</td>\n",
       "    </tr>\n",
       "    <tr>\n",
       "      <th>True</th>\n",
       "      <td>0.002951</td>\n",
       "      <td>1198858</td>\n",
       "      <td>1536290</td>\n",
       "      <td>5784</td>\n",
       "      <td>1.281461</td>\n",
       "      <td>0.004825</td>\n",
       "      <td>0.003765</td>\n",
       "    </tr>\n",
       "    <tr>\n",
       "      <th rowspan=\"2\" valign=\"top\">1.0</th>\n",
       "      <th>False</th>\n",
       "      <td>0.005958</td>\n",
       "      <td>15106</td>\n",
       "      <td>107832</td>\n",
       "      <td>180</td>\n",
       "      <td>7.138356</td>\n",
       "      <td>0.011916</td>\n",
       "      <td>0.001669</td>\n",
       "    </tr>\n",
       "    <tr>\n",
       "      <th>True</th>\n",
       "      <td>0.018831</td>\n",
       "      <td>365674</td>\n",
       "      <td>1755431</td>\n",
       "      <td>14830</td>\n",
       "      <td>4.800535</td>\n",
       "      <td>0.040555</td>\n",
       "      <td>0.008448</td>\n",
       "    </tr>\n",
       "  </tbody>\n",
       "</table>\n",
       "</div>"
      ],
      "text/plain": [
       "                             mean_any_ev  total_addresses  total_units  \\\n",
       "any_rc_eligibility pre_1980                                              \n",
       "0.0                False        0.002014            91369       304098   \n",
       "                   True         0.002951          1198858      1536290   \n",
       "1.0                False        0.005958            15106       107832   \n",
       "                   True         0.018831           365674      1755431   \n",
       "\n",
       "                             total_evictions  units_per_address  \\\n",
       "any_rc_eligibility pre_1980                                       \n",
       "0.0                False                 266           3.328240   \n",
       "                   True                 5784           1.281461   \n",
       "1.0                False                 180           7.138356   \n",
       "                   True                14830           4.800535   \n",
       "\n",
       "                             evictions_per_address  evictions_per_unit  \n",
       "any_rc_eligibility pre_1980                                             \n",
       "0.0                False                  0.002911            0.000875  \n",
       "                   True                   0.004825            0.003765  \n",
       "1.0                False                  0.011916            0.001669  \n",
       "                   True                   0.040555            0.008448  "
      ]
     },
     "execution_count": 32,
     "metadata": {},
     "output_type": "execute_result"
    }
   ],
   "source": [
    "mean_diffs = asr[\n",
    "        (asr['year_built_max'] < 2007) &\n",
    "        (asr['year_built_min'] > 0)].groupby(['any_rc_eligibility', 'pre_1980']).agg(\n",
    "            mean_any_ev=('any_ev_07', 'mean'),\n",
    "            total_addresses=('index', 'count'),\n",
    "            total_units=('total_units', 'sum'),\n",
    "            total_evictions=('ev_count_post_07', 'sum'),\n",
    "        )\n",
    "\n",
    "mean_diffs['units_per_address'] = mean_diffs['total_units'] / mean_diffs['total_addresses']\n",
    "mean_diffs['evictions_per_address'] = mean_diffs['total_evictions'] / mean_diffs['total_addresses']\n",
    "mean_diffs['evictions_per_unit'] = mean_diffs['total_evictions'] / mean_diffs['total_units']\n",
    "\n",
    "mean_diffs"
   ]
  },
  {
   "cell_type": "markdown",
   "metadata": {},
   "source": [
    "#### All Evictions"
   ]
  },
  {
   "cell_type": "code",
   "execution_count": 33,
   "metadata": {},
   "outputs": [
    {
     "data": {
      "text/html": [
       "<div>\n",
       "<style scoped>\n",
       "    .dataframe tbody tr th:only-of-type {\n",
       "        vertical-align: middle;\n",
       "    }\n",
       "\n",
       "    .dataframe tbody tr th {\n",
       "        vertical-align: top;\n",
       "    }\n",
       "\n",
       "    .dataframe thead th {\n",
       "        text-align: right;\n",
       "    }\n",
       "</style>\n",
       "<table border=\"1\" class=\"dataframe\">\n",
       "  <thead>\n",
       "    <tr style=\"text-align: right;\">\n",
       "      <th></th>\n",
       "      <th></th>\n",
       "      <th>mean_any_ev</th>\n",
       "      <th>total_addresses</th>\n",
       "      <th>total_units</th>\n",
       "      <th>total_evictions</th>\n",
       "      <th>units_per_address</th>\n",
       "      <th>evictions_per_address</th>\n",
       "      <th>evictions_per_unit</th>\n",
       "    </tr>\n",
       "    <tr>\n",
       "      <th>any_rc_eligibility</th>\n",
       "      <th>pre_1980</th>\n",
       "      <th></th>\n",
       "      <th></th>\n",
       "      <th></th>\n",
       "      <th></th>\n",
       "      <th></th>\n",
       "      <th></th>\n",
       "      <th></th>\n",
       "    </tr>\n",
       "  </thead>\n",
       "  <tbody>\n",
       "    <tr>\n",
       "      <th rowspan=\"2\" valign=\"top\">0.0</th>\n",
       "      <th>False</th>\n",
       "      <td>0.002014</td>\n",
       "      <td>91369</td>\n",
       "      <td>304098</td>\n",
       "      <td>550</td>\n",
       "      <td>3.328240</td>\n",
       "      <td>0.006020</td>\n",
       "      <td>0.001809</td>\n",
       "    </tr>\n",
       "    <tr>\n",
       "      <th>True</th>\n",
       "      <td>0.002951</td>\n",
       "      <td>1198858</td>\n",
       "      <td>1536290</td>\n",
       "      <td>14027</td>\n",
       "      <td>1.281461</td>\n",
       "      <td>0.011700</td>\n",
       "      <td>0.009130</td>\n",
       "    </tr>\n",
       "    <tr>\n",
       "      <th rowspan=\"2\" valign=\"top\">1.0</th>\n",
       "      <th>False</th>\n",
       "      <td>0.005958</td>\n",
       "      <td>15106</td>\n",
       "      <td>107832</td>\n",
       "      <td>386</td>\n",
       "      <td>7.138356</td>\n",
       "      <td>0.025553</td>\n",
       "      <td>0.003580</td>\n",
       "    </tr>\n",
       "    <tr>\n",
       "      <th>True</th>\n",
       "      <td>0.018831</td>\n",
       "      <td>365674</td>\n",
       "      <td>1755431</td>\n",
       "      <td>28878</td>\n",
       "      <td>4.800535</td>\n",
       "      <td>0.078972</td>\n",
       "      <td>0.016451</td>\n",
       "    </tr>\n",
       "  </tbody>\n",
       "</table>\n",
       "</div>"
      ],
      "text/plain": [
       "                             mean_any_ev  total_addresses  total_units  \\\n",
       "any_rc_eligibility pre_1980                                              \n",
       "0.0                False        0.002014            91369       304098   \n",
       "                   True         0.002951          1198858      1536290   \n",
       "1.0                False        0.005958            15106       107832   \n",
       "                   True         0.018831           365674      1755431   \n",
       "\n",
       "                             total_evictions  units_per_address  \\\n",
       "any_rc_eligibility pre_1980                                       \n",
       "0.0                False                 550           3.328240   \n",
       "                   True                14027           1.281461   \n",
       "1.0                False                 386           7.138356   \n",
       "                   True                28878           4.800535   \n",
       "\n",
       "                             evictions_per_address  evictions_per_unit  \n",
       "any_rc_eligibility pre_1980                                             \n",
       "0.0                False                  0.006020            0.001809  \n",
       "                   True                   0.011700            0.009130  \n",
       "1.0                False                  0.025553            0.003580  \n",
       "                   True                   0.078972            0.016451  "
      ]
     },
     "execution_count": 33,
     "metadata": {},
     "output_type": "execute_result"
    }
   ],
   "source": [
    "mean_diffs = asr[\n",
    "        (asr['year_built_max'] < 2007) &\n",
    "        (asr['year_built_min'] > 0)].groupby(['any_rc_eligibility', 'pre_1980']).agg(\n",
    "            mean_any_ev=('any_ev_07', 'mean'),\n",
    "            total_addresses=('index', 'count'),\n",
    "            total_units=('total_units', 'sum'),\n",
    "            total_evictions=('ev_count', 'sum'),\n",
    "        )\n",
    "\n",
    "mean_diffs['units_per_address'] = mean_diffs['total_units'] / mean_diffs['total_addresses']\n",
    "mean_diffs['evictions_per_address'] = mean_diffs['total_evictions'] / mean_diffs['total_addresses']\n",
    "mean_diffs['evictions_per_unit'] = mean_diffs['total_evictions'] / mean_diffs['total_units']\n",
    "\n",
    "mean_diffs"
   ]
  },
  {
   "cell_type": "markdown",
   "metadata": {},
   "source": [
    "### Plots"
   ]
  },
  {
   "cell_type": "code",
   "execution_count": 82,
   "metadata": {},
   "outputs": [],
   "source": [
    "rc_pop = asr[\n",
    "    (asr['any_rc_eligibility'] == 1) & (asr['year_built_max'] > 1500) &\n",
    "    (asr['year_built_max'] < 2500) & (asr['total_units'] > 0)]"
   ]
  },
  {
   "cell_type": "code",
   "execution_count": 88,
   "metadata": {},
   "outputs": [],
   "source": [
    "yr_vs_ev = rc_pop.groupby('year_built_max').agg({\n",
    "    'ev_per_unit':'mean',\n",
    "    'ev_per_unit_since_07':'mean'\n",
    "}).reset_index()\n",
    "\n",
    "yr_vs_ev1 = yr_vs_ev[(yr_vs_ev['year_built_max'] < 1980) &\n",
    "                     (yr_vs_ev['year_built_max'] >= 1953)]\n",
    "yr_vs_ev2 = yr_vs_ev[(yr_vs_ev['year_built_max'] >= 1980) &\n",
    "                     (yr_vs_ev['year_built_max'] <= 2007)]"
   ]
  },
  {
   "cell_type": "code",
   "execution_count": 304,
   "metadata": {
    "scrolled": false
   },
   "outputs": [
    {
     "data": {
      "text/plain": [
       "Text(0.3, 0.8, 'rent control \\nbuilt-year threshold')"
      ]
     },
     "execution_count": 304,
     "metadata": {},
     "output_type": "execute_result"
    },
    {
     "data": {
      "image/png": "[encoded data removed]",
      "text/plain": [
       "<Figure size 936x504 with 1 Axes>"
      ]
     },
     "metadata": {
      "needs_background": "light"
     },
     "output_type": "display_data"
    }
   ],
   "source": [
    "fig, ax = plt.subplots(figsize=(13,7))\n",
    "sns.regplot('year_built_max', 'ev_per_unit_since_07', yr_vs_ev1, ax=ax, truncate=True, label='rent controlled')\n",
    "sns.regplot('year_built_max', 'ev_per_unit_since_07', yr_vs_ev2, ax=ax, truncate=True, label='non-rent controlled')\n",
    "ax.axvline(1979.5, ls=':', c='r')\n",
    "ax.legend()\n",
    "_ = ax.set_xlabel(\"property built-year\", fontsize=16)\n",
    "_ = ax.set_ylabel(\"avg.\\nevictions/unit\\nper year\", fontsize=16, rotation=0, labelpad=70)\n",
    "_ = ax.set_title(\"SF Eviction Rates (2007-2017)\\nfor Multi-family Residential Properties\\n\"\n",
    "                 \"(incl. SRO's, excl. TIC's)\", fontsize=20)\n",
    "ax.set_ylim((-0.005, 0.05))\n",
    "ax.annotate('rent control \\nbuilt-year threshold', xy=(1979, 0.04),  xycoords='data',\n",
    "            xytext=(0.3, 0.8), textcoords='axes fraction',\n",
    "            arrowprops=dict(facecolor='black',frac=0.05, width=0.5, headwidth=10),\n",
    "            horizontalalignment='center', verticalalignment='center', fontsize=12\n",
    "            )"
   ]
  },
  {
   "cell_type": "markdown",
   "metadata": {},
   "source": [
    "### Fit Hedonic regression"
   ]
  },
  {
   "cell_type": "code",
   "execution_count": 46,
   "metadata": {},
   "outputs": [
    {
     "name": "stderr",
     "output_type": "stream",
     "text": [
      "/Users/max/opt/anaconda3/envs/evictions/lib/python3.8/site-packages/IPython/core/interactiveshell.py:3050: DtypeWarning: Columns (1,7,10,16,45) have mixed types. Specify dtype option on import or set low_memory=False.\n",
      "  has_raised = await self.run_ast_nodes(code_ast.body, cell_name,\n"
     ]
    }
   ],
   "source": [
    "asr_all = pd.read_csv('./evictions/data/assessor_2007-2018_clean_w_none_sttyps.csv')"
   ]
  },
  {
   "cell_type": "code",
   "execution_count": 47,
   "metadata": {},
   "outputs": [],
   "source": [
    "asr_all['total_value'] = asr_all['RP1LNDVAL'] + asr_all['RP1IMPVAL']"
   ]
  },
  {
   "cell_type": "code",
   "execution_count": 48,
   "metadata": {},
   "outputs": [],
   "source": [
    "asr_all.loc[pd.isnull(asr_all['RP1NBRCDE']), 'RP1NBRCDE'] = 'unknown'"
   ]
  },
  {
   "cell_type": "code",
   "execution_count": 49,
   "metadata": {},
   "outputs": [],
   "source": [
    "asr_grouped_by_yr = asr_all.groupby(['asr_yr', 'house_1', 'house_2', 'street_name', 'street_type']).agg(\n",
    "    total_units=('UNITS', 'sum'),\n",
    "    diff_unit_counts=('UNITS', 'nunique'),\n",
    "    min_units=('UNITS', 'min'),\n",
    "    diff_bldg_types=('bldg_type', 'nunique'),\n",
    "    bldg_type_min=('bldg_type', 'min'),\n",
    "    bldg_type_max=('bldg_type', 'max'),\n",
    "    diff_rc_eligibility=('rc_eligible', 'nunique'),\n",
    "    any_rc_eligibility=('rc_eligible', 'max'),\n",
    "    diff_years_built=('YRBLT', 'nunique'),\n",
    "    year_built_min=('YRBLT', 'min'),\n",
    "    year_built_max=('YRBLT', 'max'),\n",
    "    total_value=('total_value', 'sum'),\n",
    "    total_beds=('BEDS', 'sum'),\n",
    "    total_baths=('BATHS', 'sum'),\n",
    "    mean_stories=('STOREYNO', 'mean'),\n",
    "    total_sqft=('SQFT', 'sum'),\n",
    "    nbd=('RP1NBRCDE', pd.Series.mode),\n",
    "    total_rooms=('ROOMS', 'sum'),\n",
    "    total_area=('LAREA', 'sum')\n",
    "    ).reset_index()"
   ]
  },
  {
   "cell_type": "code",
   "execution_count": 93,
   "metadata": {},
   "outputs": [],
   "source": [
    "asr_grouped_by_yr['nbd'] = asr_grouped_by_yr['nbd'].apply(lambda x: list(x)[0] if type(x) == np.ndarray else x)"
   ]
  },
  {
   "cell_type": "code",
   "execution_count": 94,
   "metadata": {},
   "outputs": [],
   "source": [
    "asr_grouped_by_yr['yr_built_since_1900'] = asr_grouped_by_yr['year_built_max'] - 1900"
   ]
  },
  {
   "cell_type": "code",
   "execution_count": 95,
   "metadata": {},
   "outputs": [],
   "source": [
    "df_hed = asr_grouped_by_yr[\n",
    "    (asr_grouped_by_yr['any_rc_eligibility'] == 1) &\n",
    "    (asr_grouped_by_yr['total_units'] > 0) & \n",
    "    (asr_grouped_by_yr['year_built_max'] >= 1950) &\n",
    "    (asr_grouped_by_yr['year_built_max'] <= 2010) &\n",
    "    (asr_grouped_by_yr['total_sqft'] > 0) &\n",
    "#     (asr_grouped_by_yr['total_beds'] > 0) \n",
    "    (asr_grouped_by_yr['total_baths'] > 0) & \n",
    "    (asr_grouped_by_yr['total_rooms'] > 0) &\n",
    "    (asr_grouped_by_yr['mean_stories'] > 0) &\n",
    "    (asr_grouped_by_yr['total_area'] > 0)\n",
    "]"
   ]
  },
  {
   "cell_type": "code",
   "execution_count": 96,
   "metadata": {},
   "outputs": [],
   "source": [
    "hedonic = smf.ols(\n",
    "    'total_value ~ total_sqft + np.log1p(total_beds) + np.log1p(total_baths) + np.log1p(total_units) + mean_stories + total_area + '\n",
    "    'total_rooms + yr_built_since_1900 + C(asr_yr) + nbd', data=df_hed\n",
    ").fit()"
   ]
  },
  {
   "cell_type": "code",
   "execution_count": 97,
   "metadata": {},
   "outputs": [
    {
     "name": "stderr",
     "output_type": "stream",
     "text": [
      "<ipython-input-97-50ad7914a310>:1: SettingWithCopyWarning: \n",
      "A value is trying to be set on a copy of a slice from a DataFrame.\n",
      "Try using .loc[row_indexer,col_indexer] = value instead\n",
      "\n",
      "See the caveats in the documentation: http://pandas.pydata.org/pandas-docs/stable/user_guide/indexing.html#returning-a-view-versus-a-copy\n",
      "  df_hed['hedonic_resid'] = hedonic.resid\n"
     ]
    }
   ],
   "source": [
    "df_hed['hedonic_resid'] = hedonic.resid"
   ]
  },
  {
   "cell_type": "code",
   "execution_count": 98,
   "metadata": {
    "scrolled": false
   },
   "outputs": [
    {
     "name": "stdout",
     "output_type": "stream",
     "text": [
      "                            OLS Regression Results                            \n",
      "==============================================================================\n",
      "Dep. Variable:            total_value   R-squared:                       0.908\n",
      "Model:                            OLS   Adj. R-squared:                  0.908\n",
      "Method:                 Least Squares   F-statistic:                     6721.\n",
      "Date:                Sat, 25 Jan 2020   Prob (F-statistic):               0.00\n",
      "Time:                        16:52:28   Log-Likelihood:            -9.8665e+05\n",
      "No. Observations:               61479   AIC:                         1.973e+06\n",
      "Df Residuals:                   61388   BIC:                         1.974e+06\n",
      "Df Model:                          90                                         \n",
      "Covariance Type:            nonrobust                                         \n",
      "=========================================================================================\n",
      "                            coef    std err          t      P>|t|      [0.025      0.975]\n",
      "-----------------------------------------------------------------------------------------\n",
      "Intercept              -1.15e+06   8.32e+04    -13.824      0.000   -1.31e+06   -9.87e+05\n",
      "C(asr_yr)[T.2008]      8.132e+04   4.25e+04      1.914      0.056   -1957.907    1.65e+05\n",
      "C(asr_yr)[T.2009]      1.349e+05   4.25e+04      3.171      0.002    5.15e+04    2.18e+05\n",
      "C(asr_yr)[T.2010]      1.525e+05   4.26e+04      3.584      0.000    6.91e+04    2.36e+05\n",
      "C(asr_yr)[T.2011]       1.42e+05   4.28e+04      3.319      0.001    5.81e+04    2.26e+05\n",
      "C(asr_yr)[T.2012]      1.872e+05   4.26e+04      4.391      0.000    1.04e+05    2.71e+05\n",
      "C(asr_yr)[T.2013]      2.367e+05   4.26e+04      5.553      0.000    1.53e+05     3.2e+05\n",
      "C(asr_yr)[T.2014]      2.642e+05   4.27e+04      6.191      0.000    1.81e+05    3.48e+05\n",
      "C(asr_yr)[T.2015]       1.47e+05   5.29e+04      2.779      0.005    4.33e+04    2.51e+05\n",
      "C(asr_yr)[T.2016]      3.547e+05   4.26e+04      8.321      0.000    2.71e+05    4.38e+05\n",
      "C(asr_yr)[T.2017]      4.389e+05   4.27e+04     10.289      0.000    3.55e+05    5.22e+05\n",
      "nbd[T.01B]            -3810.7164   4.79e+04     -0.080      0.937   -9.77e+04    9.01e+04\n",
      "nbd[T.01C]             6.307e+04   7.92e+04      0.796      0.426   -9.22e+04    2.18e+05\n",
      "nbd[T.01D]               1.4e+04   6.81e+04      0.205      0.837    -1.2e+05    1.48e+05\n",
      "nbd[T.01E]              6.04e+04   4.65e+04      1.298      0.194   -3.08e+04    1.52e+05\n",
      "nbd[T.01F]            -2.351e+05   2.59e+05     -0.907      0.364   -7.43e+05    2.73e+05\n",
      "nbd[T.01G]             5.751e+04   7.27e+04      0.791      0.429   -8.49e+04       2e+05\n",
      "nbd[T.02A]             1.978e+05   1.81e+05      1.093      0.274   -1.57e+05    5.52e+05\n",
      "nbd[T.02B]             2.301e+05   7.18e+04      3.207      0.001    8.95e+04    3.71e+05\n",
      "nbd[T.02C]             1.494e+05   5.06e+04      2.953      0.003    5.02e+04    2.49e+05\n",
      "nbd[T.02D]             1.153e+05   9.81e+04      1.175      0.240    -7.7e+04    3.08e+05\n",
      "nbd[T.02E]             1.019e+05   5.57e+04      1.830      0.067   -7216.136    2.11e+05\n",
      "nbd[T.02F]             7.353e+04   4.47e+04      1.646      0.100    -1.4e+04    1.61e+05\n",
      "nbd[T.02G]             2.899e+05    1.8e+05      1.608      0.108   -6.36e+04    6.43e+05\n",
      "nbd[T.03D]             6.851e+08    3.7e+06    185.375      0.000    6.78e+08    6.92e+08\n",
      "nbd[T.03G]             2.781e+04   1.55e+05      0.179      0.858   -2.77e+05    3.32e+05\n",
      "nbd[T.03H]              4.71e+04   1.07e+05      0.439      0.660   -1.63e+05    2.57e+05\n",
      "nbd[T.03J]              2.15e+05   1.93e+05      1.113      0.266   -1.64e+05    5.94e+05\n",
      "nbd[T.04B]             1.671e+06   1.72e+05      9.740      0.000    1.33e+06    2.01e+06\n",
      "nbd[T.04C]             2.803e+05    1.1e+05      2.556      0.011    6.54e+04    4.95e+05\n",
      "nbd[T.04D]             1.339e+06   1.09e+05     12.322      0.000    1.13e+06    1.55e+06\n",
      "nbd[T.04F]            -5.545e+04   2.16e+05     -0.257      0.797   -4.78e+05    3.67e+05\n",
      "nbd[T.04H]             2.167e+06   3.43e+05      6.317      0.000    1.49e+06    2.84e+06\n",
      "nbd[T.04N]              2.77e+04   1.91e+05      0.145      0.885   -3.47e+05    4.03e+05\n",
      "nbd[T.04S]             2.576e+05   9.85e+04      2.617      0.009    6.47e+04    4.51e+05\n",
      "nbd[T.04T]             1.227e+06   6.82e+05      1.800      0.072   -1.09e+05    2.56e+06\n",
      "nbd[T.05A]             3.667e+05   8.03e+04      4.566      0.000    2.09e+05    5.24e+05\n",
      "nbd[T.05B]              1.09e+05   1.01e+05      1.076      0.282   -8.95e+04    3.08e+05\n",
      "nbd[T.05C]             2.938e+05   4.94e+04      5.946      0.000    1.97e+05    3.91e+05\n",
      "nbd[T.05D]             1.639e+05   7.17e+04      2.286      0.022    2.34e+04    3.04e+05\n",
      "nbd[T.05E]             1.431e+05   9.45e+04      1.515      0.130    -4.2e+04    3.28e+05\n",
      "nbd[T.05F]             3.855e+05   1.43e+05      2.703      0.007    1.06e+05    6.65e+05\n",
      "nbd[T.05G]             2.671e+05   7.68e+04      3.479      0.001    1.17e+05    4.18e+05\n",
      "nbd[T.05H]             2.771e+05   1.75e+05      1.587      0.113   -6.52e+04    6.19e+05\n",
      "nbd[T.05J]            -2.269e+06   2.03e+05    -11.179      0.000   -2.67e+06   -1.87e+06\n",
      "nbd[T.05K]             3.424e+05   6.15e+04      5.570      0.000    2.22e+05    4.63e+05\n",
      "nbd[T.05M]             1.855e+05   9.18e+04      2.020      0.043    5542.434    3.66e+05\n",
      "nbd[T.06A]             2.163e+04   1.09e+05      0.198      0.843   -1.93e+05    2.36e+05\n",
      "nbd[T.06B]             1.099e+04   1.11e+05      0.099      0.921   -2.06e+05    2.28e+05\n",
      "nbd[T.06C]              4.65e+05   8.94e+04      5.202      0.000     2.9e+05     6.4e+05\n",
      "nbd[T.06D]            -1.865e+06   1.58e+05    -11.766      0.000   -2.18e+06   -1.55e+06\n",
      "nbd[T.06E]             2.433e+04   1.99e+05      0.122      0.903   -3.66e+05    4.14e+05\n",
      "nbd[T.06F]            -2.519e+05   1.27e+05     -1.987      0.047   -5.01e+05   -3363.875\n",
      "nbd[T.07A]              2.93e+05   9.73e+04      3.011      0.003    1.02e+05    4.84e+05\n",
      "nbd[T.07B]             2.794e+05   6.94e+04      4.029      0.000    1.43e+05    4.15e+05\n",
      "nbd[T.07C]            -1.738e+05   3.15e+05     -0.552      0.581   -7.91e+05    4.43e+05\n",
      "nbd[T.07D]             1.814e+05   7.32e+04      2.480      0.013     3.8e+04    3.25e+05\n",
      "nbd[T.08A]             2.826e+06   1.72e+05     16.445      0.000    2.49e+06    3.16e+06\n",
      "nbd[T.08B]            -6.786e+05   6.82e+05     -0.995      0.320   -2.01e+06    6.58e+05\n",
      "nbd[T.08C]             2.555e+05   8.75e+04      2.922      0.003    8.41e+04    4.27e+05\n",
      "nbd[T.08D]            -4.767e+05   1.66e+05     -2.868      0.004   -8.03e+05   -1.51e+05\n",
      "nbd[T.08E]             1.976e+05   7.21e+04      2.741      0.006    5.63e+04    3.39e+05\n",
      "nbd[T.08F]             8.406e+05    1.8e+05      4.677      0.000    4.88e+05    1.19e+06\n",
      "nbd[T.08G]             9.171e+05   8.54e+04     10.739      0.000     7.5e+05    1.08e+06\n",
      "nbd[T.08H]            -4.212e+06    3.4e+05    -12.386      0.000   -4.88e+06   -3.55e+06\n",
      "nbd[T.09A]             2.454e+05   8.68e+04      2.827      0.005    7.53e+04    4.16e+05\n",
      "nbd[T.09B]             1.728e+07   8.55e+05     20.217      0.000    1.56e+07     1.9e+07\n",
      "nbd[T.09C]             1.459e+05   5.76e+04      2.535      0.011    3.31e+04    2.59e+05\n",
      "nbd[T.09D]             4.436e+06   6.06e+05      7.322      0.000    3.25e+06    5.62e+06\n",
      "nbd[T.09E]             4.299e+05   6.26e+04      6.863      0.000    3.07e+05    5.53e+05\n",
      "nbd[T.09F]             3.109e+06   2.01e+05     15.507      0.000    2.72e+06     3.5e+06\n",
      "nbd[T.09G]             1.977e+05   6.51e+04      3.037      0.002    7.01e+04    3.25e+05\n",
      "nbd[T.10A]             5.223e+05   9.84e+04      5.309      0.000    3.29e+05    7.15e+05\n",
      "nbd[T.10B]             1.289e+05   1.07e+05      1.203      0.229   -8.11e+04    3.39e+05\n",
      "nbd[T.10C]             1.009e+05   8.83e+04      1.143      0.253   -7.21e+04    2.74e+05\n",
      "nbd[T.10D]              1.44e+05   1.23e+05      1.172      0.241   -9.68e+04    3.85e+05\n",
      "nbd[T.10E]              1.96e+05   9.74e+04      2.012      0.044    5063.520    3.87e+05\n",
      "nbd[T.10F]             2.091e+05   9.04e+04      2.314      0.021     3.2e+04    3.86e+05\n",
      "nbd[T.10G]             3.032e+04   1.78e+05      0.171      0.865   -3.18e+05    3.79e+05\n",
      "nbd[T.10H]             1.797e+05   1.21e+05      1.490      0.136   -5.67e+04    4.16e+05\n",
      "nbd[T.10J]            -3.703e+05   3.18e+05     -1.166      0.244   -9.93e+05    2.52e+05\n",
      "nbd[T.10K]             1.513e+05   1.83e+05      0.826      0.409   -2.08e+05    5.11e+05\n",
      "nbd[T.unknown]        -7.102e+05   2.26e+06     -0.314      0.753   -5.14e+06    3.72e+06\n",
      "total_sqft               52.1297      1.005     51.889      0.000      50.161      54.099\n",
      "np.log1p(total_beds)   1.398e+05   1.17e+04     11.949      0.000    1.17e+05    1.63e+05\n",
      "np.log1p(total_baths)  7.647e+05   3.73e+04     20.478      0.000    6.92e+05    8.38e+05\n",
      "np.log1p(total_units) -2.458e+05   3.27e+04     -7.514      0.000    -3.1e+05   -1.82e+05\n",
      "mean_stories           1.342e+05   1.28e+04     10.468      0.000    1.09e+05    1.59e+05\n",
      "total_area              -45.7552      0.764    -59.897      0.000     -47.252     -44.258\n",
      "total_rooms            9411.7576    360.377     26.116      0.000    8705.418    1.01e+04\n",
      "yr_built_since_1900    -330.6120    951.613     -0.347      0.728   -2195.776    1534.552\n",
      "==============================================================================\n",
      "Omnibus:                   100098.512   Durbin-Watson:                   1.996\n",
      "Prob(Omnibus):                  0.000   Jarque-Bera (JB):      21121730581.549\n",
      "Skew:                          -8.935   Prob(JB):                         0.00\n",
      "Kurtosis:                    2874.432   Cond. No.                     2.64e+07\n",
      "==============================================================================\n",
      "\n",
      "Warnings:\n",
      "[1] Standard Errors assume that the covariance matrix of the errors is correctly specified.\n",
      "[2] The condition number is large, 2.64e+07. This might indicate that there are\n",
      "strong multicollinearity or other numerical problems.\n"
     ]
    }
   ],
   "source": [
    "print(hedonic.summary())"
   ]
  },
  {
   "cell_type": "markdown",
   "metadata": {},
   "source": [
    "### Fitting the sharp RD"
   ]
  },
  {
   "cell_type": "markdown",
   "metadata": {},
   "source": [
    "Control variables to add:\n",
    "- rent burden?\n",
    "- stddev prop value"
   ]
  },
  {
   "cell_type": "code",
   "execution_count": 343,
   "metadata": {},
   "outputs": [],
   "source": [
    "bandwidth = 27"
   ]
  },
  {
   "cell_type": "code",
   "execution_count": 348,
   "metadata": {},
   "outputs": [],
   "source": [
    "df = asr[\n",
    "    (asr['any_rc_eligibility'] == 1) & (asr['year_built_max'] > 1980 - bandwidth) &\n",
    "    (asr['year_built_max'] < 1980 + bandwidth) & (asr['total_units'] > 0)]"
   ]
  },
  {
   "cell_type": "code",
   "execution_count": 349,
   "metadata": {},
   "outputs": [
    {
     "name": "stderr",
     "output_type": "stream",
     "text": [
      "<ipython-input-349-c8926f141828>:1: SettingWithCopyWarning: \n",
      "A value is trying to be set on a copy of a slice from a DataFrame.\n",
      "Try using .loc[row_indexer,col_indexer] = value instead\n",
      "\n",
      "See the caveats in the documentation: http://pandas.pydata.org/pandas-docs/stable/user_guide/indexing.html#returning-a-view-versus-a-copy\n",
      "  df['rent_control'] = False\n",
      "<ipython-input-349-c8926f141828>:3: SettingWithCopyWarning: \n",
      "A value is trying to be set on a copy of a slice from a DataFrame.\n",
      "Try using .loc[row_indexer,col_indexer] = value instead\n",
      "\n",
      "See the caveats in the documentation: http://pandas.pydata.org/pandas-docs/stable/user_guide/indexing.html#returning-a-view-versus-a-copy\n",
      "  df['year_built_centered'] = df['year_built_max'] - 1980\n"
     ]
    }
   ],
   "source": [
    "df['rent_control'] = False\n",
    "df.loc[df['pre_1980'] == True, 'rent_control'] = True\n",
    "df['year_built_centered'] = df['year_built_max'] - 1980"
   ]
  },
  {
   "cell_type": "code",
   "execution_count": 350,
   "metadata": {},
   "outputs": [
    {
     "data": {
      "text/html": [
       "<div>\n",
       "<style scoped>\n",
       "    .dataframe tbody tr th:only-of-type {\n",
       "        vertical-align: middle;\n",
       "    }\n",
       "\n",
       "    .dataframe tbody tr th {\n",
       "        vertical-align: top;\n",
       "    }\n",
       "\n",
       "    .dataframe thead th {\n",
       "        text-align: right;\n",
       "    }\n",
       "</style>\n",
       "<table border=\"1\" class=\"dataframe\">\n",
       "  <thead>\n",
       "    <tr style=\"text-align: right;\">\n",
       "      <th></th>\n",
       "      <th>mean_any_ev</th>\n",
       "      <th>total_addresses</th>\n",
       "      <th>total_units</th>\n",
       "      <th>total_evictions</th>\n",
       "      <th>ev_per_unit</th>\n",
       "    </tr>\n",
       "    <tr>\n",
       "      <th>pre_1980</th>\n",
       "      <th></th>\n",
       "      <th></th>\n",
       "      <th></th>\n",
       "      <th></th>\n",
       "      <th></th>\n",
       "    </tr>\n",
       "  </thead>\n",
       "  <tbody>\n",
       "    <tr>\n",
       "      <th>False</th>\n",
       "      <td>0.014085</td>\n",
       "      <td>14839</td>\n",
       "      <td>112163</td>\n",
       "      <td>378</td>\n",
       "      <td>0.009967</td>\n",
       "    </tr>\n",
       "    <tr>\n",
       "      <th>True</th>\n",
       "      <td>0.040188</td>\n",
       "      <td>45461</td>\n",
       "      <td>366136</td>\n",
       "      <td>4150</td>\n",
       "      <td>0.021177</td>\n",
       "    </tr>\n",
       "  </tbody>\n",
       "</table>\n",
       "</div>"
      ],
      "text/plain": [
       "          mean_any_ev  total_addresses  total_units  total_evictions  \\\n",
       "pre_1980                                                               \n",
       "False        0.014085            14839       112163              378   \n",
       "True         0.040188            45461       366136             4150   \n",
       "\n",
       "          ev_per_unit  \n",
       "pre_1980               \n",
       "False        0.009967  \n",
       "True         0.021177  "
      ]
     },
     "execution_count": 350,
     "metadata": {},
     "output_type": "execute_result"
    }
   ],
   "source": [
    "df.groupby('pre_1980').agg(\n",
    "            mean_any_ev=('any_ev', 'mean'),\n",
    "            total_addresses=('index', 'count'),\n",
    "            total_units=('total_units', 'sum'),\n",
    "            total_evictions=('ev_count', 'sum'),\n",
    "            ev_per_unit=('ev_per_unit', 'mean')\n",
    ")"
   ]
  },
  {
   "cell_type": "code",
   "execution_count": 351,
   "metadata": {},
   "outputs": [
    {
     "data": {
      "text/plain": [
       "Index(['index', 'asr_yr', 'house_1', 'house_2', 'street_name', 'street_type',\n",
       "       'total_units', 'diff_unit_counts', 'min_units', 'diff_bldg_types',\n",
       "       'bldg_type_min', 'bldg_type_max', 'diff_rc_eligibility',\n",
       "       'any_rc_eligibility', 'diff_years_built', 'year_built_min',\n",
       "       'year_built_max', 'ev_count_post_07', 'ev_count', 'any_ev', 'any_ev_07',\n",
       "       'pre_1980', 'ev_per_unit', 'ev_per_unit_since_07', 'rent_control',\n",
       "       'year_built_centered'],\n",
       "      dtype='object')"
      ]
     },
     "execution_count": 351,
     "metadata": {},
     "output_type": "execute_result"
    }
   ],
   "source": [
    "df.columns"
   ]
  },
  {
   "cell_type": "code",
   "execution_count": 352,
   "metadata": {},
   "outputs": [],
   "source": [
    "df = pd.merge(\n",
    "    df,\n",
    "    df_hed[[\n",
    "        'asr_yr', 'house_1', 'house_2', 'street_name', 'street_type', 'total_rooms',\n",
    "        'total_value', 'total_area', 'total_sqft', 'nbd', 'total_baths', 'hedonic_resid']],\n",
    "    on=['asr_yr', 'house_1', 'house_2', 'street_name', 'street_type'])"
   ]
  },
  {
   "cell_type": "code",
   "execution_count": 407,
   "metadata": {},
   "outputs": [],
   "source": [
    "rd = smf.ols(\n",
    "    \"ev_per_unit_since_07 ~ rent_control + year_built_centered*rent_control + \"\n",
    "    \"np.log1p(total_value):np.log(total_sqft) + np.log(total_units)\",\n",
    "    data=df)"
   ]
  },
  {
   "cell_type": "code",
   "execution_count": 408,
   "metadata": {},
   "outputs": [],
   "source": [
    "fitted = rd.fit()"
   ]
  },
  {
   "cell_type": "code",
   "execution_count": 409,
   "metadata": {
    "scrolled": false
   },
   "outputs": [
    {
     "name": "stdout",
     "output_type": "stream",
     "text": [
      "                             OLS Regression Results                             \n",
      "================================================================================\n",
      "Dep. Variable:     ev_per_unit_since_07   R-squared:                       0.006\n",
      "Model:                              OLS   Adj. R-squared:                  0.006\n",
      "Method:                   Least Squares   F-statistic:                     67.06\n",
      "Date:                  Sat, 25 Jan 2020   Prob (F-statistic):           4.26e-70\n",
      "Time:                          21:57:27   Log-Likelihood:                 22651.\n",
      "No. Observations:                 54975   AIC:                        -4.529e+04\n",
      "Df Residuals:                     54969   BIC:                        -4.524e+04\n",
      "Df Model:                             5                                         \n",
      "Covariance Type:              nonrobust                                         \n",
      "============================================================================================================\n",
      "                                               coef    std err          t      P>|t|      [0.025      0.975]\n",
      "------------------------------------------------------------------------------------------------------------\n",
      "Intercept                                   -0.0628      0.006    -10.688      0.000      -0.074      -0.051\n",
      "rent_control[T.True]                         0.0138      0.003      4.361      0.000       0.008       0.020\n",
      "year_built_centered                      -7.603e-05      0.000     -0.328      0.743      -0.001       0.000\n",
      "year_built_centered:rent_control[T.True]    -0.0002      0.000     -0.591      0.555      -0.001       0.000\n",
      "np.log1p(total_value):np.log(total_sqft)     0.0007   5.19e-05     14.077      0.000       0.001       0.001\n",
      "np.log(total_units)                         -0.0164      0.001    -16.708      0.000      -0.018      -0.014\n",
      "==============================================================================\n",
      "Omnibus:                   162093.978   Durbin-Watson:                   1.989\n",
      "Prob(Omnibus):                  0.000   Jarque-Bera (JB):      19183925572.186\n",
      "Skew:                          41.714   Prob(JB):                         0.00\n",
      "Kurtosis:                    2895.752   Cond. No.                     1.01e+03\n",
      "==============================================================================\n",
      "\n",
      "Warnings:\n",
      "[1] Standard Errors assume that the covariance matrix of the errors is correctly specified.\n",
      "[2] The condition number is large, 1.01e+03. This might indicate that there are\n",
      "strong multicollinearity or other numerical problems.\n"
     ]
    }
   ],
   "source": [
    "print(fitted.summary())"
   ]
  },
  {
   "cell_type": "code",
   "execution_count": 201,
   "metadata": {},
   "outputs": [
    {
     "data": {
      "text/plain": [
       "0.01135999854043177"
      ]
     },
     "execution_count": 201,
     "metadata": {},
     "output_type": "execute_result"
    }
   ],
   "source": [
    "fitted.params[1]"
   ]
  },
  {
   "cell_type": "markdown",
   "metadata": {},
   "source": [
    "### Potential evictions"
   ]
  },
  {
   "cell_type": "code",
   "execution_count": 27,
   "metadata": {},
   "outputs": [],
   "source": [
    "units_by_yr = asr[\n",
    "    (asr['any_rc_eligibility'] == 1) &\n",
    "    (asr['year_built_max'] > 1900) &\n",
    "    (asr['year_built_max'] < 2100)].groupby('year_built_max').agg({'total_units': 'sum'}).reset_index()"
   ]
  },
  {
   "cell_type": "code",
   "execution_count": 28,
   "metadata": {},
   "outputs": [
    {
     "data": {
      "image/png": "[encoded data removed]",
      "text/plain": [
       "<Figure size 936x576 with 1 Axes>"
      ]
     },
     "metadata": {
      "needs_background": "light"
     },
     "output_type": "display_data"
    }
   ],
   "source": [
    "fig, ax = plt.subplots(figsize=(13,8))\n",
    "ax.scatter(units_by_yr['year_built_max'], units_by_yr['total_units'], s=25, facecolors='none', edgecolors='r')\n",
    "ax.plot(units_by_yr['year_built_max'], units_by_yr['total_units'], lw=1, c='k', )\n",
    "\n",
    "_ = ax.set_xlabel(\"year built\", fontsize=16)\n",
    "_ = ax.set_ylabel(\"# new units\", fontsize=16)\n",
    "_ = ax.set_title(\"SF New Construction: Rent-control eligible use-codes\", fontsize=20)"
   ]
  },
  {
   "cell_type": "code",
   "execution_count": 202,
   "metadata": {},
   "outputs": [],
   "source": [
    "rc_pop = asr[(asr['any_rc_eligibility'] == 1) & (asr['year_built_max'] > 1979)]\n",
    "rc_pop = rc_pop.groupby('year_built_max').agg({'total_units': 'sum'})\n",
    "rc_pop.index.name = \"new rent control year-built cutoff\"\n",
    "rc_pop['cumulative_units'] = rc_pop['total_units'].cumsum()\n",
    "rc_pop['potential_evictions'] = rc_pop['cumulative_units'] * fitted.params[1]\n",
    "rc_pop['pct_growth'] = rc_pop['potential_evictions'] / ev_per_year"
   ]
  },
  {
   "cell_type": "code",
   "execution_count": 203,
   "metadata": {},
   "outputs": [
    {
     "data": {
      "text/html": [
       "<div>\n",
       "<style scoped>\n",
       "    .dataframe tbody tr th:only-of-type {\n",
       "        vertical-align: middle;\n",
       "    }\n",
       "\n",
       "    .dataframe tbody tr th {\n",
       "        vertical-align: top;\n",
       "    }\n",
       "\n",
       "    .dataframe thead th {\n",
       "        text-align: right;\n",
       "    }\n",
       "</style>\n",
       "<table border=\"1\" class=\"dataframe\">\n",
       "  <thead>\n",
       "    <tr style=\"text-align: right;\">\n",
       "      <th></th>\n",
       "      <th>total_units</th>\n",
       "      <th>cumulative_units</th>\n",
       "      <th>potential_evictions</th>\n",
       "      <th>pct_growth</th>\n",
       "    </tr>\n",
       "    <tr>\n",
       "      <th>new rent control year-built cutoff</th>\n",
       "      <th></th>\n",
       "      <th></th>\n",
       "      <th></th>\n",
       "      <th></th>\n",
       "    </tr>\n",
       "  </thead>\n",
       "  <tbody>\n",
       "    <tr>\n",
       "      <th>1980</th>\n",
       "      <td>6609</td>\n",
       "      <td>6609</td>\n",
       "      <td>75.078230</td>\n",
       "      <td>0.036528</td>\n",
       "    </tr>\n",
       "    <tr>\n",
       "      <th>1981</th>\n",
       "      <td>3442</td>\n",
       "      <td>10051</td>\n",
       "      <td>114.179345</td>\n",
       "      <td>0.055552</td>\n",
       "    </tr>\n",
       "    <tr>\n",
       "      <th>1982</th>\n",
       "      <td>5821</td>\n",
       "      <td>15872</td>\n",
       "      <td>180.305897</td>\n",
       "      <td>0.087725</td>\n",
       "    </tr>\n",
       "    <tr>\n",
       "      <th>1983</th>\n",
       "      <td>8781</td>\n",
       "      <td>24653</td>\n",
       "      <td>280.058044</td>\n",
       "      <td>0.136257</td>\n",
       "    </tr>\n",
       "    <tr>\n",
       "      <th>1984</th>\n",
       "      <td>4738</td>\n",
       "      <td>29391</td>\n",
       "      <td>333.881717</td>\n",
       "      <td>0.162444</td>\n",
       "    </tr>\n",
       "    <tr>\n",
       "      <th>1985</th>\n",
       "      <td>1523</td>\n",
       "      <td>30914</td>\n",
       "      <td>351.182995</td>\n",
       "      <td>0.170862</td>\n",
       "    </tr>\n",
       "    <tr>\n",
       "      <th>1986</th>\n",
       "      <td>6233</td>\n",
       "      <td>37147</td>\n",
       "      <td>421.989866</td>\n",
       "      <td>0.205312</td>\n",
       "    </tr>\n",
       "    <tr>\n",
       "      <th>1987</th>\n",
       "      <td>6134</td>\n",
       "      <td>43281</td>\n",
       "      <td>491.672097</td>\n",
       "      <td>0.239214</td>\n",
       "    </tr>\n",
       "    <tr>\n",
       "      <th>1988</th>\n",
       "      <td>10418</td>\n",
       "      <td>53699</td>\n",
       "      <td>610.020562</td>\n",
       "      <td>0.296794</td>\n",
       "    </tr>\n",
       "    <tr>\n",
       "      <th>1989</th>\n",
       "      <td>13857</td>\n",
       "      <td>67556</td>\n",
       "      <td>767.436061</td>\n",
       "      <td>0.373382</td>\n",
       "    </tr>\n",
       "    <tr>\n",
       "      <th>1990</th>\n",
       "      <td>9106</td>\n",
       "      <td>76662</td>\n",
       "      <td>870.880208</td>\n",
       "      <td>0.423711</td>\n",
       "    </tr>\n",
       "    <tr>\n",
       "      <th>1991</th>\n",
       "      <td>3034</td>\n",
       "      <td>79696</td>\n",
       "      <td>905.346444</td>\n",
       "      <td>0.440480</td>\n",
       "    </tr>\n",
       "    <tr>\n",
       "      <th>1992</th>\n",
       "      <td>1564</td>\n",
       "      <td>81260</td>\n",
       "      <td>923.113481</td>\n",
       "      <td>0.449124</td>\n",
       "    </tr>\n",
       "    <tr>\n",
       "      <th>1993</th>\n",
       "      <td>1456</td>\n",
       "      <td>82716</td>\n",
       "      <td>939.653639</td>\n",
       "      <td>0.457171</td>\n",
       "    </tr>\n",
       "    <tr>\n",
       "      <th>1994</th>\n",
       "      <td>3405</td>\n",
       "      <td>86121</td>\n",
       "      <td>978.334434</td>\n",
       "      <td>0.475991</td>\n",
       "    </tr>\n",
       "    <tr>\n",
       "      <th>1995</th>\n",
       "      <td>2263</td>\n",
       "      <td>88384</td>\n",
       "      <td>1004.042111</td>\n",
       "      <td>0.488499</td>\n",
       "    </tr>\n",
       "    <tr>\n",
       "      <th>1996</th>\n",
       "      <td>1093</td>\n",
       "      <td>89477</td>\n",
       "      <td>1016.458589</td>\n",
       "      <td>0.494540</td>\n",
       "    </tr>\n",
       "    <tr>\n",
       "      <th>1997</th>\n",
       "      <td>2101</td>\n",
       "      <td>91578</td>\n",
       "      <td>1040.325946</td>\n",
       "      <td>0.506152</td>\n",
       "    </tr>\n",
       "    <tr>\n",
       "      <th>1998</th>\n",
       "      <td>1353</td>\n",
       "      <td>92931</td>\n",
       "      <td>1055.696024</td>\n",
       "      <td>0.513630</td>\n",
       "    </tr>\n",
       "    <tr>\n",
       "      <th>1999</th>\n",
       "      <td>2988</td>\n",
       "      <td>95919</td>\n",
       "      <td>1089.639700</td>\n",
       "      <td>0.530144</td>\n",
       "    </tr>\n",
       "    <tr>\n",
       "      <th>2000</th>\n",
       "      <td>4284</td>\n",
       "      <td>100203</td>\n",
       "      <td>1138.305934</td>\n",
       "      <td>0.553822</td>\n",
       "    </tr>\n",
       "    <tr>\n",
       "      <th>2001</th>\n",
       "      <td>409</td>\n",
       "      <td>100612</td>\n",
       "      <td>1142.952173</td>\n",
       "      <td>0.556083</td>\n",
       "    </tr>\n",
       "    <tr>\n",
       "      <th>2002</th>\n",
       "      <td>2026</td>\n",
       "      <td>102638</td>\n",
       "      <td>1165.967530</td>\n",
       "      <td>0.567280</td>\n",
       "    </tr>\n",
       "    <tr>\n",
       "      <th>2003</th>\n",
       "      <td>1597</td>\n",
       "      <td>104235</td>\n",
       "      <td>1184.109448</td>\n",
       "      <td>0.576107</td>\n",
       "    </tr>\n",
       "    <tr>\n",
       "      <th>2004</th>\n",
       "      <td>1451</td>\n",
       "      <td>105686</td>\n",
       "      <td>1200.592806</td>\n",
       "      <td>0.584127</td>\n",
       "    </tr>\n",
       "    <tr>\n",
       "      <th>2005</th>\n",
       "      <td>2748</td>\n",
       "      <td>108434</td>\n",
       "      <td>1231.810082</td>\n",
       "      <td>0.599315</td>\n",
       "    </tr>\n",
       "    <tr>\n",
       "      <th>2006</th>\n",
       "      <td>3729</td>\n",
       "      <td>112163</td>\n",
       "      <td>1274.171516</td>\n",
       "      <td>0.619925</td>\n",
       "    </tr>\n",
       "    <tr>\n",
       "      <th>2007</th>\n",
       "      <td>6070</td>\n",
       "      <td>118233</td>\n",
       "      <td>1343.126707</td>\n",
       "      <td>0.653474</td>\n",
       "    </tr>\n",
       "    <tr>\n",
       "      <th>2008</th>\n",
       "      <td>4281</td>\n",
       "      <td>122514</td>\n",
       "      <td>1391.758861</td>\n",
       "      <td>0.677135</td>\n",
       "    </tr>\n",
       "    <tr>\n",
       "      <th>2009</th>\n",
       "      <td>2158</td>\n",
       "      <td>124672</td>\n",
       "      <td>1416.273738</td>\n",
       "      <td>0.689062</td>\n",
       "    </tr>\n",
       "    <tr>\n",
       "      <th>2010</th>\n",
       "      <td>2909</td>\n",
       "      <td>127581</td>\n",
       "      <td>1449.319974</td>\n",
       "      <td>0.705140</td>\n",
       "    </tr>\n",
       "    <tr>\n",
       "      <th>2011</th>\n",
       "      <td>649</td>\n",
       "      <td>128230</td>\n",
       "      <td>1456.692613</td>\n",
       "      <td>0.708727</td>\n",
       "    </tr>\n",
       "    <tr>\n",
       "      <th>2012</th>\n",
       "      <td>659</td>\n",
       "      <td>128889</td>\n",
       "      <td>1464.178852</td>\n",
       "      <td>0.712370</td>\n",
       "    </tr>\n",
       "    <tr>\n",
       "      <th>2013</th>\n",
       "      <td>2426</td>\n",
       "      <td>131315</td>\n",
       "      <td>1491.738208</td>\n",
       "      <td>0.725778</td>\n",
       "    </tr>\n",
       "    <tr>\n",
       "      <th>2014</th>\n",
       "      <td>2356</td>\n",
       "      <td>133671</td>\n",
       "      <td>1518.502365</td>\n",
       "      <td>0.738800</td>\n",
       "    </tr>\n",
       "    <tr>\n",
       "      <th>2015</th>\n",
       "      <td>2031</td>\n",
       "      <td>135702</td>\n",
       "      <td>1541.574522</td>\n",
       "      <td>0.750025</td>\n",
       "    </tr>\n",
       "    <tr>\n",
       "      <th>2016</th>\n",
       "      <td>1725</td>\n",
       "      <td>137427</td>\n",
       "      <td>1561.170519</td>\n",
       "      <td>0.759559</td>\n",
       "    </tr>\n",
       "    <tr>\n",
       "      <th>2017</th>\n",
       "      <td>20</td>\n",
       "      <td>137447</td>\n",
       "      <td>1561.397719</td>\n",
       "      <td>0.759670</td>\n",
       "    </tr>\n",
       "    <tr>\n",
       "      <th>2801</th>\n",
       "      <td>24</td>\n",
       "      <td>137471</td>\n",
       "      <td>1561.670359</td>\n",
       "      <td>0.759802</td>\n",
       "    </tr>\n",
       "    <tr>\n",
       "      <th>4101</th>\n",
       "      <td>11</td>\n",
       "      <td>137482</td>\n",
       "      <td>1561.795319</td>\n",
       "      <td>0.759863</td>\n",
       "    </tr>\n",
       "  </tbody>\n",
       "</table>\n",
       "</div>"
      ],
      "text/plain": [
       "                                    total_units  cumulative_units  \\\n",
       "new rent control year-built cutoff                                  \n",
       "1980                                       6609              6609   \n",
       "1981                                       3442             10051   \n",
       "1982                                       5821             15872   \n",
       "1983                                       8781             24653   \n",
       "1984                                       4738             29391   \n",
       "1985                                       1523             30914   \n",
       "1986                                       6233             37147   \n",
       "1987                                       6134             43281   \n",
       "1988                                      10418             53699   \n",
       "1989                                      13857             67556   \n",
       "1990                                       9106             76662   \n",
       "1991                                       3034             79696   \n",
       "1992                                       1564             81260   \n",
       "1993                                       1456             82716   \n",
       "1994                                       3405             86121   \n",
       "1995                                       2263             88384   \n",
       "1996                                       1093             89477   \n",
       "1997                                       2101             91578   \n",
       "1998                                       1353             92931   \n",
       "1999                                       2988             95919   \n",
       "2000                                       4284            100203   \n",
       "2001                                        409            100612   \n",
       "2002                                       2026            102638   \n",
       "2003                                       1597            104235   \n",
       "2004                                       1451            105686   \n",
       "2005                                       2748            108434   \n",
       "2006                                       3729            112163   \n",
       "2007                                       6070            118233   \n",
       "2008                                       4281            122514   \n",
       "2009                                       2158            124672   \n",
       "2010                                       2909            127581   \n",
       "2011                                        649            128230   \n",
       "2012                                        659            128889   \n",
       "2013                                       2426            131315   \n",
       "2014                                       2356            133671   \n",
       "2015                                       2031            135702   \n",
       "2016                                       1725            137427   \n",
       "2017                                         20            137447   \n",
       "2801                                         24            137471   \n",
       "4101                                         11            137482   \n",
       "\n",
       "                                    potential_evictions  pct_growth  \n",
       "new rent control year-built cutoff                                   \n",
       "1980                                          75.078230    0.036528  \n",
       "1981                                         114.179345    0.055552  \n",
       "1982                                         180.305897    0.087725  \n",
       "1983                                         280.058044    0.136257  \n",
       "1984                                         333.881717    0.162444  \n",
       "1985                                         351.182995    0.170862  \n",
       "1986                                         421.989866    0.205312  \n",
       "1987                                         491.672097    0.239214  \n",
       "1988                                         610.020562    0.296794  \n",
       "1989                                         767.436061    0.373382  \n",
       "1990                                         870.880208    0.423711  \n",
       "1991                                         905.346444    0.440480  \n",
       "1992                                         923.113481    0.449124  \n",
       "1993                                         939.653639    0.457171  \n",
       "1994                                         978.334434    0.475991  \n",
       "1995                                        1004.042111    0.488499  \n",
       "1996                                        1016.458589    0.494540  \n",
       "1997                                        1040.325946    0.506152  \n",
       "1998                                        1055.696024    0.513630  \n",
       "1999                                        1089.639700    0.530144  \n",
       "2000                                        1138.305934    0.553822  \n",
       "2001                                        1142.952173    0.556083  \n",
       "2002                                        1165.967530    0.567280  \n",
       "2003                                        1184.109448    0.576107  \n",
       "2004                                        1200.592806    0.584127  \n",
       "2005                                        1231.810082    0.599315  \n",
       "2006                                        1274.171516    0.619925  \n",
       "2007                                        1343.126707    0.653474  \n",
       "2008                                        1391.758861    0.677135  \n",
       "2009                                        1416.273738    0.689062  \n",
       "2010                                        1449.319974    0.705140  \n",
       "2011                                        1456.692613    0.708727  \n",
       "2012                                        1464.178852    0.712370  \n",
       "2013                                        1491.738208    0.725778  \n",
       "2014                                        1518.502365    0.738800  \n",
       "2015                                        1541.574522    0.750025  \n",
       "2016                                        1561.170519    0.759559  \n",
       "2017                                        1561.397719    0.759670  \n",
       "2801                                        1561.670359    0.759802  \n",
       "4101                                        1561.795319    0.759863  "
      ]
     },
     "execution_count": 203,
     "metadata": {},
     "output_type": "execute_result"
    }
   ],
   "source": [
    "rc_pop"
   ]
  },
  {
   "cell_type": "markdown",
   "metadata": {},
   "source": [
    "### RDD package"
   ]
  },
  {
   "cell_type": "code",
   "execution_count": 7,
   "metadata": {},
   "outputs": [],
   "source": [
    "import rdd"
   ]
  },
  {
   "cell_type": "code",
   "execution_count": null,
   "metadata": {},
   "outputs": [],
   "source": []
  }
 ],
 "metadata": {
  "kernelspec": {
   "display_name": "Python [conda env:evictions] *",
   "language": "python",
   "name": "conda-env-evictions-py"
  },
  "language_info": {
   "codemirror_mode": {
    "name": "ipython",
    "version": 3
   },
   "file_extension": ".py",
   "mimetype": "text/x-python",
   "name": "python",
   "nbconvert_exporter": "python",
   "pygments_lexer": "ipython3",
   "version": "3.8.1"
  }
 },
 "nbformat": 4,
 "nbformat_minor": 4
}
